{
 "metadata": {
  "name": "",
  "signature": "sha256:307533f71cc6fd8da0a61ff02db54e5e5092f11cd04c13dd187e1b8a7bbb1395"
 },
 "nbformat": 3,
 "nbformat_minor": 0,
 "worksheets": [
  {
   "cells": [
    {
     "cell_type": "code",
     "collapsed": false,
     "input": [
      "# special IPython command to prepare the notebook for matplotlib\n",
      "%matplotlib inline \n",
      "\n",
      "import urllib2 # module to read in HTML\n",
      "import bs4 # BeautifulSoup: module to parse HTML and XML\n",
      "import json # \n",
      "import datetime as dt # module for manipulating dates and times\n",
      "import pandas as pd\n",
      "import numpy as np"
     ],
     "language": "python",
     "metadata": {},
     "outputs": []
    },
    {
     "cell_type": "markdown",
     "metadata": {},
     "source": [
      "## Recall from from lab last week 09/19/2014\n",
      "\n",
      "Previously discussed: \n",
      "\n",
      "* More pandas, matplotlib for exploratory data analysis\n",
      "* Brief introduction to numpy and scipy\n",
      "* Working on the command line\n",
      "* Overview of git and Github"
     ]
    },
    {
     "cell_type": "markdown",
     "metadata": {},
     "source": [
      "## Today, we will discuss the following:\n",
      "\n",
      "* urllib2 - reads in HTML\n",
      "* BeautifulSoup - use to parse HTML and XML code\n",
      "    * Reddit\n",
      "* JSON examples\n",
      "    * World Cup\n",
      "\n",
      "<a href=https://raw.githubusercontent.com/cs109/2014/master/labs/Lab4_Notes.ipynb download=Lab4_Notes.ipynb> Download this notebook from Github </a>"
     ]
    },
    {
     "cell_type": "markdown",
     "metadata": {},
     "source": [
      "# urllib2\n",
      "\n",
      "[urllib2](https://docs.python.org/2/library/urllib2.html) is a useful module to get information about and retrieving data from the web. The function `urlopen()` opens a URL (similar to opening a file). The file-like object has some of the methods as a file object. For example, to read the entire HTML of the webpage into a single string, use the method `read()`. `readlines()` can read in the text line by line. While `read()` reads in the HTML code and and `close()` closes the URL connection. \n"
     ]
    },
    {
     "cell_type": "code",
     "collapsed": false,
     "input": [
      "x = urllib2.urlopen(\"http://www.google.com\")\n",
      "htmlSource = x.read()\n",
      "x.close()"
     ],
     "language": "python",
     "metadata": {},
     "outputs": []
    },
    {
     "cell_type": "code",
     "collapsed": false,
     "input": [
      "type(htmlSource)"
     ],
     "language": "python",
     "metadata": {},
     "outputs": []
    },
    {
     "cell_type": "code",
     "collapsed": false,
     "input": [
      "print htmlSource"
     ],
     "language": "python",
     "metadata": {},
     "outputs": []
    },
    {
     "cell_type": "markdown",
     "metadata": {},
     "source": [
      "# BeautifulSoup\n",
      "\n",
      "Once you have the HTML source code, you have to parse it and clean it up.\n",
      "\n",
      "[BeautifulSoup](http://www.crummy.com/software/BeautifulSoup/bs4/doc/) is a really useful python module for parsing HTML and XML files.  Let's try a few examples. \n",
      "\n",
      "For this section, we will be working with the HTML code from [Reddit](http://www.reddit.com). "
     ]
    },
    {
     "cell_type": "code",
     "collapsed": false,
     "input": [
      "x = urllib2.urlopen(\"http://www.reddit.com\") # Opens URLS\n",
      "htmlSource = x.read()\n",
      "x.close()\n",
      "print htmlSource"
     ],
     "language": "python",
     "metadata": {},
     "outputs": []
    },
    {
     "cell_type": "markdown",
     "metadata": {},
     "source": [
      "### prettify()\n",
      "\n",
      "Beautiful Soup gives us a `BeautifulSoup` object, which represents the document as a nested data structure. We can use the `prettify()` function to show the different levels of the HTML code. "
     ]
    },
    {
     "cell_type": "code",
     "collapsed": false,
     "input": [
      "soup = bs4.BeautifulSoup(htmlSource)\n",
      "print soup.prettify()"
     ],
     "language": "python",
     "metadata": {},
     "outputs": []
    },
    {
     "cell_type": "markdown",
     "metadata": {},
     "source": [
      "### Navigating the tree using tags\n",
      "\n",
      "The simplest way to navigate the parse tree is to say the name of the tag you want. If you want the `<head>` tag, just say `soup.head`:"
     ]
    },
    {
     "cell_type": "code",
     "collapsed": false,
     "input": [
      "print soup.head.prettify()"
     ],
     "language": "python",
     "metadata": {},
     "outputs": []
    },
    {
     "cell_type": "markdown",
     "metadata": {},
     "source": [
      "### .contents and .children\n",
      "\n",
      "A tag\u2019s children are available in a list called `.contents` which returns a list.  "
     ]
    },
    {
     "cell_type": "code",
     "collapsed": false,
     "input": [
      "soup.head.contents"
     ],
     "language": "python",
     "metadata": {},
     "outputs": []
    },
    {
     "cell_type": "code",
     "collapsed": false,
     "input": [
      "len(soup.head.contents)"
     ],
     "language": "python",
     "metadata": {},
     "outputs": []
    },
    {
     "cell_type": "code",
     "collapsed": false,
     "input": [
      "# Extract first three elements from the list of contents\n",
      "soup.head.contents[0:3]"
     ],
     "language": "python",
     "metadata": {},
     "outputs": []
    },
    {
     "cell_type": "markdown",
     "metadata": {},
     "source": [
      "Instead of getting them as a list, you can iterate over a tag\u2019s children using the .children generator:"
     ]
    },
    {
     "cell_type": "code",
     "collapsed": false,
     "input": [
      "soup.head.children"
     ],
     "language": "python",
     "metadata": {},
     "outputs": []
    },
    {
     "cell_type": "code",
     "collapsed": false,
     "input": [
      "for child in soup.head.children:\n",
      "    print(child)"
     ],
     "language": "python",
     "metadata": {},
     "outputs": []
    },
    {
     "cell_type": "code",
     "collapsed": false,
     "input": [
      "# print the title of reddit\n",
      "soup.head.title"
     ],
     "language": "python",
     "metadata": {},
     "outputs": []
    },
    {
     "cell_type": "code",
     "collapsed": false,
     "input": [
      "# print the string in the title\n",
      "soup.head.title.string"
     ],
     "language": "python",
     "metadata": {},
     "outputs": []
    },
    {
     "cell_type": "markdown",
     "metadata": {},
     "source": [
      "### .descendants\n",
      "\n",
      "Attribute lets you iterate over all of a tag\u2019s children, recursively: its direct children, the children of its direct children, and so on:"
     ]
    },
    {
     "cell_type": "code",
     "collapsed": false,
     "input": [
      "for child in soup.head.descendants:\n",
      "    print child"
     ],
     "language": "python",
     "metadata": {},
     "outputs": []
    },
    {
     "cell_type": "markdown",
     "metadata": {},
     "source": [
      "### .strings\n",
      "\n",
      "If there\u2019s more than one thing inside a tag, you can still look at just the strings. Use the .strings generator"
     ]
    },
    {
     "cell_type": "code",
     "collapsed": false,
     "input": [
      "for string in soup.strings:\n",
      "    print(repr(string))"
     ],
     "language": "python",
     "metadata": {},
     "outputs": []
    },
    {
     "cell_type": "markdown",
     "metadata": {},
     "source": [
      "### .stripped_strings\n",
      "\n",
      "These strings tend to have a lot of extra whitespace, which you can remove by using the .stripped_strings generator instead"
     ]
    },
    {
     "cell_type": "code",
     "collapsed": false,
     "input": [
      "for string in soup.stripped_strings:\n",
      "    print(repr(string))"
     ],
     "language": "python",
     "metadata": {},
     "outputs": []
    },
    {
     "cell_type": "markdown",
     "metadata": {},
     "source": [
      "### .parent\n",
      "\n",
      "You can access an element\u2019s parent with the .parent attribute. In the example \u201cthree sisters\u201d document, the `<head>` tag is the parent of the `<title>` tag:"
     ]
    },
    {
     "cell_type": "code",
     "collapsed": false,
     "input": [
      "soup.title"
     ],
     "language": "python",
     "metadata": {},
     "outputs": []
    },
    {
     "cell_type": "code",
     "collapsed": false,
     "input": [
      "soup.title.string"
     ],
     "language": "python",
     "metadata": {},
     "outputs": []
    },
    {
     "cell_type": "code",
     "collapsed": false,
     "input": [
      "soup.title.string.parent"
     ],
     "language": "python",
     "metadata": {},
     "outputs": []
    },
    {
     "cell_type": "markdown",
     "metadata": {},
     "source": [
      "# Searching the Tree\n",
      "\n",
      "Now, let's consider examples of different filters you can use to search this nested tree of HTML. These filters show up again and again, throughout the search API. You can use them to filter based on a tag\u2019s name, on its attributes, on the text of a string, or on some combination of these.\n",
      "\n",
      "#### Use `find_all()` to find all tags"
     ]
    },
    {
     "cell_type": "markdown",
     "metadata": {},
     "source": [
      "One common task is extracting all the URLs found within a page's tags:"
     ]
    },
    {
     "cell_type": "code",
     "collapsed": false,
     "input": [
      "# search for all <a> tags; returns a list\n",
      "soup.find_all('a')"
     ],
     "language": "python",
     "metadata": {},
     "outputs": []
    },
    {
     "cell_type": "code",
     "collapsed": false,
     "input": [
      "# your turn\n",
      "# search for all the paragragh tags"
     ],
     "language": "python",
     "metadata": {},
     "outputs": []
    },
    {
     "cell_type": "code",
     "collapsed": false,
     "input": [
      "# your turn\n",
      "# search for all the table tags"
     ],
     "language": "python",
     "metadata": {},
     "outputs": []
    },
    {
     "cell_type": "markdown",
     "metadata": {},
     "source": [
      "Other arguments to the `.find_all()` function include `limit` and `text`. What do those do? "
     ]
    },
    {
     "cell_type": "code",
     "collapsed": false,
     "input": [
      "# your turn \n",
      "# search for all the <a> tags and use the limit argument "
     ],
     "language": "python",
     "metadata": {},
     "outputs": []
    },
    {
     "cell_type": "code",
     "collapsed": false,
     "input": [
      "# your turn \n",
      "# What does the using the text argument do? "
     ],
     "language": "python",
     "metadata": {},
     "outputs": []
    },
    {
     "cell_type": "markdown",
     "metadata": {},
     "source": [
      "#### Use `.get()` to extract an attribute"
     ]
    },
    {
     "cell_type": "code",
     "collapsed": false,
     "input": [
      "soup.find_all('a')[1].get('href')"
     ],
     "language": "python",
     "metadata": {},
     "outputs": []
    },
    {
     "cell_type": "markdown",
     "metadata": {},
     "source": [
      "#### Looping through tags"
     ]
    },
    {
     "cell_type": "code",
     "collapsed": false,
     "input": [
      "# your turn\n",
      "# write a for loop printing all the links from reddit"
     ],
     "language": "python",
     "metadata": {},
     "outputs": []
    },
    {
     "cell_type": "code",
     "collapsed": false,
     "input": [
      "# your turn\n",
      "# write a for loop, but use a list comprehension this time\n",
      "# show the first 5 elements"
     ],
     "language": "python",
     "metadata": {},
     "outputs": [],
     "prompt_number": 35
    },
    {
     "cell_type": "code",
     "collapsed": false,
     "input": [
      "x[3].split('/')"
     ],
     "language": "python",
     "metadata": {},
     "outputs": []
    },
    {
     "cell_type": "markdown",
     "metadata": {},
     "source": [
      "Another common task is extracting all the text from a page:"
     ]
    },
    {
     "cell_type": "code",
     "collapsed": false,
     "input": [
      "print(soup.get_text())"
     ],
     "language": "python",
     "metadata": {},
     "outputs": []
    },
    {
     "cell_type": "markdown",
     "metadata": {},
     "source": [
      "# JSON\n",
      "\n",
      "#### Working with Web APIs\n",
      "Web APIs are a more convenient way for programs to interact with websites. Many webistes now have a nice API that gives access to it's data in JSON format.\n"
     ]
    },
    {
     "cell_type": "code",
     "collapsed": false,
     "input": [
      "a = {'a': 1, 'b':2}\n",
      "s = json.dumps(a)\n",
      "a2 = json.loads(s)"
     ],
     "language": "python",
     "metadata": {},
     "outputs": []
    },
    {
     "cell_type": "code",
     "collapsed": false,
     "input": [
      "a # a dictionary"
     ],
     "language": "python",
     "metadata": {},
     "outputs": []
    },
    {
     "cell_type": "code",
     "collapsed": false,
     "input": [
      "s # s is a string containing a in JSON encoding"
     ],
     "language": "python",
     "metadata": {},
     "outputs": []
    },
    {
     "cell_type": "code",
     "collapsed": false,
     "input": [
      "a2 # reading back the keys are now in unicode"
     ],
     "language": "python",
     "metadata": {},
     "outputs": []
    },
    {
     "cell_type": "markdown",
     "metadata": {},
     "source": [
      "## World Cup in JSON!\n",
      "\n",
      "The [2014 FIFA World Cup](http://en.wikipedia.org/wiki/2014_FIFA_World_Cup) was held this summer in Brazil at several different venues.  There was an [API created for the World Cup](http://worldcup.sfg.io) that scraped current match results and output match data as JSON. Possible output includes events such as goals, substitutions, and cards. The [actual matches are listed here](http://worldcup.sfg.io/matches) in JSON. \n",
      "\n",
      "* Example from [Fernando Masanori](https://gist.github.com/fmasanori/1288160dad16cc473a53)"
     ]
    },
    {
     "cell_type": "code",
     "collapsed": false,
     "input": [
      "url = \"http://worldcup.sfg.io/matches\"\n",
      "data = urllib2.urlopen(url).read()\n",
      "wc = json.loads(data.decode('utf-8'))"
     ],
     "language": "python",
     "metadata": {},
     "outputs": []
    },
    {
     "cell_type": "code",
     "collapsed": false,
     "input": [
      "\"Number of matches in 2014 World Cup: %i\" % len(wc)"
     ],
     "language": "python",
     "metadata": {},
     "outputs": []
    },
    {
     "cell_type": "code",
     "collapsed": false,
     "input": [
      "# Print keys in first match\n",
      "gameIndex = 60\n",
      "wc[gameIndex].keys()"
     ],
     "language": "python",
     "metadata": {},
     "outputs": []
    },
    {
     "cell_type": "code",
     "collapsed": false,
     "input": [
      "wc[gameIndex]['status']"
     ],
     "language": "python",
     "metadata": {},
     "outputs": []
    },
    {
     "cell_type": "code",
     "collapsed": false,
     "input": [
      "wc[gameIndex]['match_number']"
     ],
     "language": "python",
     "metadata": {},
     "outputs": []
    },
    {
     "cell_type": "code",
     "collapsed": false,
     "input": [
      "wc[gameIndex]['away_team']"
     ],
     "language": "python",
     "metadata": {},
     "outputs": []
    },
    {
     "cell_type": "code",
     "collapsed": false,
     "input": [
      "wc[gameIndex]['away_team_events']"
     ],
     "language": "python",
     "metadata": {},
     "outputs": []
    },
    {
     "cell_type": "code",
     "collapsed": false,
     "input": [
      "wc[gameIndex]['home_team']"
     ],
     "language": "python",
     "metadata": {},
     "outputs": []
    },
    {
     "cell_type": "markdown",
     "metadata": {},
     "source": [
      "The [Brazil v Germany (2014 FIFA World Cup)](http://en.wikipedia.org/wiki/Brazil_v_Germany_(2014_FIFA_World_Cup) match on July 8, 2014 where Germany score the most goals in World Cup tournament history.  Germany led 5\u20130 at half time, with 4 goals scored in a span of 6 minutes, and subsequently brought the score up to 7\u20130 in the second half. Brazil scored a goal at the last minute, ending the match 7\u20131. "
     ]
    },
    {
     "cell_type": "code",
     "collapsed": false,
     "input": [
      "Print the team names and goals scored for each match"
     ],
     "language": "python",
     "metadata": {},
     "outputs": []
    },
    {
     "cell_type": "code",
     "collapsed": false,
     "input": [
      "for elem in wc:\n",
      "    print elem['home_team']['country'], elem['home_team']['goals'], elem['away_team']['country'], elem['away_team']['goals']"
     ],
     "language": "python",
     "metadata": {},
     "outputs": []
    },
    {
     "cell_type": "markdown",
     "metadata": {},
     "source": [
      "### Create a pandas DataFrame from JSON"
     ]
    },
    {
     "cell_type": "code",
     "collapsed": false,
     "input": [
      "data = pd.DataFrame(wc, columns = ['match_number', 'location', 'datetime', 'home_team', 'away_team', 'winner', 'home_team_events', 'away_team_events'])\n",
      "data.head()"
     ],
     "language": "python",
     "metadata": {},
     "outputs": []
    },
    {
     "cell_type": "markdown",
     "metadata": {},
     "source": [
      "#### Convert format of a column\n",
      "\n",
      "Here we pandas [DatetimeIndex](http://pandas.pydata.org/pandas-docs/stable/generated/pandas.DatetimeIndex.html) to convert the `datetime` column to two seperate columns: a date and a time for each match."
     ]
    },
    {
     "cell_type": "code",
     "collapsed": false,
     "input": [
      "data['gameDate'] = pd.DatetimeIndex(data.datetime).date\n",
      "data['gameTime'] = pd.DatetimeIndex(data.datetime).time"
     ],
     "language": "python",
     "metadata": {},
     "outputs": []
    },
    {
     "cell_type": "code",
     "collapsed": false,
     "input": [
      "data.head()"
     ],
     "language": "python",
     "metadata": {},
     "outputs": []
    },
    {
     "cell_type": "code",
     "collapsed": false,
     "input": [],
     "language": "python",
     "metadata": {},
     "outputs": []
    }
   ],
   "metadata": {}
  }
 ]
}